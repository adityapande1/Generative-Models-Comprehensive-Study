{
 "cells": [
  {
   "cell_type": "code",
   "execution_count": 25,
   "metadata": {},
   "outputs": [],
   "source": [
    "from PIL import Image\n",
    "import os\n"
   ]
  },
  {
   "cell_type": "code",
   "execution_count": 26,
   "metadata": {},
   "outputs": [],
   "source": [
    "# # Open an existing image\n",
    "\n",
    "\n",
    "\n",
    "# img = Image.open('./data/boat/2.jpg')\n",
    "\n",
    "# # Save the image with reduced quality and compression\n",
    "# img.save('./your_image_reduced.jpg', format='JPEG', quality=85, optimize=True)"
   ]
  },
  {
   "cell_type": "code",
   "execution_count": 27,
   "metadata": {},
   "outputs": [
    {
     "name": "stdout",
     "output_type": "stream",
     "text": [
      "Assignment3_dataset.zip     \u001b[0m\u001b[01;34mmedia\u001b[0m/      reduce_image_size.ipynb\n",
      "\u001b[01;34mdata\u001b[0m/                       \u001b[01;34mmodules\u001b[0m/    your_image_reduced.jpg\n",
      "\u001b[01;34mIE643_22m2108_assignment3\u001b[0m/  \u001b[01;34mnotebooks\u001b[0m/\n",
      "IE643_Assignment3.pdf       README.md\n"
     ]
    }
   ],
   "source": [
    "ls"
   ]
  },
  {
   "cell_type": "code",
   "execution_count": 28,
   "metadata": {},
   "outputs": [],
   "source": [
    "# category = 'car'\n",
    "# img_names = os.listdir('./data/'+category)\n",
    "# img_names = [img[:-4] for img in img_names]\n",
    "\n",
    "# for img_name in img_names:\n",
    "\n",
    "#     img = Image.open('./data/' + category + '/' + img_name + '.jpg')\n",
    "#     # Save the image with reduced quality and compression\n",
    "#     img.save('./new_images/car/' +  img_name  + '.jpg', format='JPEG', quality=80, optimize=True)"
   ]
  },
  {
   "cell_type": "code",
   "execution_count": 29,
   "metadata": {},
   "outputs": [
    {
     "name": "stdout",
     "output_type": "stream",
     "text": [
      "Assignment3_dataset.zip     \u001b[0m\u001b[01;34mmedia\u001b[0m/      reduce_image_size.ipynb\n",
      "\u001b[01;34mdata\u001b[0m/                       \u001b[01;34mmodules\u001b[0m/    your_image_reduced.jpg\n",
      "\u001b[01;34mIE643_22m2108_assignment3\u001b[0m/  \u001b[01;34mnotebooks\u001b[0m/\n",
      "IE643_Assignment3.pdf       README.md\n"
     ]
    }
   ],
   "source": [
    "ls"
   ]
  },
  {
   "cell_type": "code",
   "execution_count": null,
   "metadata": {},
   "outputs": [],
   "source": []
  }
 ],
 "metadata": {
  "kernelspec": {
   "display_name": "QCNet",
   "language": "python",
   "name": "python3"
  },
  "language_info": {
   "codemirror_mode": {
    "name": "ipython",
    "version": 3
   },
   "file_extension": ".py",
   "mimetype": "text/x-python",
   "name": "python",
   "nbconvert_exporter": "python",
   "pygments_lexer": "ipython3",
   "version": "3.8.16"
  }
 },
 "nbformat": 4,
 "nbformat_minor": 2
}
