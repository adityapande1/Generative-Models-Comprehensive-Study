{
 "cells": [
  {
   "cell_type": "code",
   "execution_count": 82,
   "id": "ec00ea22",
   "metadata": {},
   "outputs": [],
   "source": [
    "import torch\n",
    "\n",
    "lbeta = 10.0\n",
    "ubeta = 110.0\n",
    "n_steps = 10\n"
   ]
  },
  {
   "cell_type": "markdown",
   "id": "b116aaeb",
   "metadata": {},
   "source": [
    "# SCHEDULE 1"
   ]
  },
  {
   "cell_type": "code",
   "execution_count": 12,
   "id": "6fae9450",
   "metadata": {},
   "outputs": [],
   "source": [
    "beta = torch.linspace(lbeta, ubeta, n_steps + 1)"
   ]
  },
  {
   "cell_type": "code",
   "execution_count": 13,
   "id": "ebcaf16a",
   "metadata": {},
   "outputs": [
    {
     "data": {
      "text/plain": [
       "tensor([ 10.,  20.,  30.,  40.,  50.,  60.,  70.,  80.,  90., 100., 110.])"
      ]
     },
     "execution_count": 13,
     "metadata": {},
     "output_type": "execute_result"
    }
   ],
   "source": [
    "beta"
   ]
  },
  {
   "cell_type": "code",
   "execution_count": null,
   "id": "3766ced2",
   "metadata": {},
   "outputs": [],
   "source": []
  },
  {
   "cell_type": "markdown",
   "id": "7e8cf9e7",
   "metadata": {},
   "source": [
    "# SCHEDULE 2"
   ]
  },
  {
   "cell_type": "code",
   "execution_count": 76,
   "id": "21ec0684",
   "metadata": {},
   "outputs": [],
   "source": [
    "t_by_T_sq = (torch.arange(0,n_steps + 1)/(n_steps))**2\n",
    "\n",
    "vec = lbeta + (ubeta - lbeta)*t_by_T_sq"
   ]
  },
  {
   "cell_type": "code",
   "execution_count": 77,
   "id": "56afda5d",
   "metadata": {},
   "outputs": [
    {
     "data": {
      "text/plain": [
       "tensor([ 10.0000,  11.0000,  14.0000,  19.0000,  26.0000,  35.0000,  46.0000,\n",
       "         59.0000,  74.0000,  91.0000, 110.0000])"
      ]
     },
     "execution_count": 77,
     "metadata": {},
     "output_type": "execute_result"
    }
   ],
   "source": [
    "vec"
   ]
  },
  {
   "cell_type": "code",
   "execution_count": null,
   "id": "eff3263c",
   "metadata": {},
   "outputs": [],
   "source": []
  },
  {
   "cell_type": "markdown",
   "id": "76d7c604",
   "metadata": {},
   "source": [
    "# SCHEDULE 3"
   ]
  },
  {
   "cell_type": "code",
   "execution_count": 78,
   "id": "2785ac16",
   "metadata": {},
   "outputs": [],
   "source": [
    "t_by_T_cube = (torch.arange(0,n_steps + 1)/(n_steps))**3\n",
    "\n",
    "vec = lbeta + (ubeta - lbeta)*t_by_T_sq"
   ]
  },
  {
   "cell_type": "code",
   "execution_count": 79,
   "id": "bf2b477b",
   "metadata": {},
   "outputs": [
    {
     "data": {
      "text/plain": [
       "tensor([ 10.0000,  11.0000,  14.0000,  19.0000,  26.0000,  35.0000,  46.0000,\n",
       "         59.0000,  74.0000,  91.0000, 110.0000])"
      ]
     },
     "execution_count": 79,
     "metadata": {},
     "output_type": "execute_result"
    }
   ],
   "source": [
    "vec"
   ]
  },
  {
   "cell_type": "code",
   "execution_count": null,
   "id": "8a03bc71",
   "metadata": {},
   "outputs": [],
   "source": []
  },
  {
   "cell_type": "markdown",
   "id": "fc982d28",
   "metadata": {},
   "source": [
    "# SCHEDULE 4"
   ]
  },
  {
   "cell_type": "code",
   "execution_count": 57,
   "id": "422b453e",
   "metadata": {},
   "outputs": [],
   "source": [
    "t_by_T = (torch.arange(0,n_steps + 1)/(n_steps))"
   ]
  },
  {
   "cell_type": "code",
   "execution_count": 58,
   "id": "7da52e99",
   "metadata": {},
   "outputs": [],
   "source": [
    "exponent = t_by_T*torch.log(torch.tensor(ubeta/lbeta))"
   ]
  },
  {
   "cell_type": "code",
   "execution_count": 59,
   "id": "26f7aba8",
   "metadata": {},
   "outputs": [],
   "source": [
    "vec = lbeta*torch.exp(exponent)"
   ]
  },
  {
   "cell_type": "code",
   "execution_count": 60,
   "id": "ae183c8a",
   "metadata": {},
   "outputs": [
    {
     "data": {
      "text/plain": [
       "tensor([ 10.0000,  12.7098,  16.1539,  20.5314,  26.0950,  33.1662,  42.1537,\n",
       "         53.5766,  68.0948,  86.5473, 110.0000])"
      ]
     },
     "execution_count": 60,
     "metadata": {},
     "output_type": "execute_result"
    }
   ],
   "source": [
    "vec"
   ]
  },
  {
   "cell_type": "code",
   "execution_count": null,
   "id": "9abcb660",
   "metadata": {},
   "outputs": [],
   "source": []
  },
  {
   "cell_type": "markdown",
   "id": "9650dba5",
   "metadata": {},
   "source": [
    "# SCHEDULE 5"
   ]
  },
  {
   "cell_type": "code",
   "execution_count": 38,
   "id": "cd541bc1",
   "metadata": {},
   "outputs": [],
   "source": [
    "e = torch.exp(torch.tensor(1))"
   ]
  },
  {
   "cell_type": "code",
   "execution_count": 40,
   "id": "5946b88a",
   "metadata": {},
   "outputs": [],
   "source": [
    "a = (torch.exp(torch.tensor(ubeta/lbeta)) - e)/n_steps"
   ]
  },
  {
   "cell_type": "code",
   "execution_count": 41,
   "id": "57a1dea0",
   "metadata": {},
   "outputs": [
    {
     "data": {
      "text/plain": [
       "tensor(5987.1421)"
      ]
     },
     "execution_count": 41,
     "metadata": {},
     "output_type": "execute_result"
    }
   ],
   "source": [
    "a"
   ]
  },
  {
   "cell_type": "code",
   "execution_count": 43,
   "id": "84c73b56",
   "metadata": {},
   "outputs": [],
   "source": [
    "t_range = torch.arange(0,n_steps + 1)"
   ]
  },
  {
   "cell_type": "code",
   "execution_count": 46,
   "id": "34719b3e",
   "metadata": {},
   "outputs": [],
   "source": [
    "vec = lbeta*torch.log(a*t_range + e)"
   ]
  },
  {
   "cell_type": "code",
   "execution_count": 47,
   "id": "542b8fe7",
   "metadata": {},
   "outputs": [
    {
     "data": {
      "text/plain": [
       "tensor([ 10.0000,  86.9782,  93.9074,  97.9613, 100.8378, 103.0690, 104.8920,\n",
       "        106.4334, 107.7687, 108.9464, 110.0000])"
      ]
     },
     "execution_count": 47,
     "metadata": {},
     "output_type": "execute_result"
    }
   ],
   "source": [
    "vec"
   ]
  },
  {
   "cell_type": "markdown",
   "id": "e9bb0f1e",
   "metadata": {},
   "source": [
    "# SCHEDULE 6"
   ]
  },
  {
   "cell_type": "code",
   "execution_count": null,
   "id": "7d52b9a7",
   "metadata": {},
   "outputs": [],
   "source": [
    "t_by_T = (torch.arange(0,n_steps + 1)/(n_steps))"
   ]
  },
  {
   "cell_type": "code",
   "execution_count": null,
   "id": "1bbe9f86",
   "metadata": {},
   "outputs": [],
   "source": []
  },
  {
   "cell_type": "code",
   "execution_count": 65,
   "id": "2d65c0c0",
   "metadata": {},
   "outputs": [],
   "source": [
    "vec = lbeta + (ubeta-lbeta)*torch.sin((torch.pi/2)*t_by_T)"
   ]
  },
  {
   "cell_type": "code",
   "execution_count": 66,
   "id": "ec331996",
   "metadata": {},
   "outputs": [
    {
     "data": {
      "text/plain": [
       "tensor([ 10.0000,  25.6434,  40.9017,  55.3991,  68.7785,  80.7107,  90.9017,\n",
       "         99.1007, 105.1057, 108.7688, 110.0000])"
      ]
     },
     "execution_count": 66,
     "metadata": {},
     "output_type": "execute_result"
    }
   ],
   "source": [
    "vec"
   ]
  },
  {
   "cell_type": "code",
   "execution_count": null,
   "id": "f89f50ae",
   "metadata": {},
   "outputs": [],
   "source": []
  },
  {
   "cell_type": "code",
   "execution_count": null,
   "id": "2d7f6f44",
   "metadata": {},
   "outputs": [],
   "source": [
    "t_by_T = (torch.arange(0,n_steps + 1)/(n_steps))"
   ]
  },
  {
   "cell_type": "code",
   "execution_count": 80,
   "id": "0be87fc9",
   "metadata": {},
   "outputs": [],
   "source": [
    "vec = lbeta + (ubeta-lbeta)*torch.cos((torch.pi/2) - (torch.pi/2)*t_by_T)"
   ]
  },
  {
   "cell_type": "code",
   "execution_count": 81,
   "id": "20fcc3a2",
   "metadata": {},
   "outputs": [
    {
     "data": {
      "text/plain": [
       "tensor([ 10.0000,  25.6434,  40.9017,  55.3991,  68.7785,  80.7107,  90.9017,\n",
       "         99.1006, 105.1057, 108.7688, 110.0000])"
      ]
     },
     "execution_count": 81,
     "metadata": {},
     "output_type": "execute_result"
    }
   ],
   "source": [
    "vec"
   ]
  },
  {
   "cell_type": "code",
   "execution_count": null,
   "id": "8f0f53fc",
   "metadata": {},
   "outputs": [],
   "source": []
  },
  {
   "cell_type": "code",
   "execution_count": null,
   "id": "1f51bd22",
   "metadata": {},
   "outputs": [],
   "source": []
  },
  {
   "cell_type": "code",
   "execution_count": null,
   "id": "3475dbb5",
   "metadata": {},
   "outputs": [],
   "source": []
  },
  {
   "cell_type": "markdown",
   "id": "fc1537ec",
   "metadata": {},
   "source": [
    "# SCHEDULE 7"
   ]
  },
  {
   "cell_type": "code",
   "execution_count": null,
   "id": "78de2234",
   "metadata": {},
   "outputs": [],
   "source": [
    "t_by_T = (torch.arange(0,n_steps + 1)/(n_steps))"
   ]
  },
  {
   "cell_type": "code",
   "execution_count": null,
   "id": "69b799d2",
   "metadata": {},
   "outputs": [],
   "source": [
    "vec = lbeta + (ubeta-lbeta)*t_by_T + torch.sin((torch.pi*16)*t_by_T)"
   ]
  },
  {
   "cell_type": "code",
   "execution_count": null,
   "id": "06c5d487",
   "metadata": {},
   "outputs": [],
   "source": [
    "vec"
   ]
  },
  {
   "cell_type": "code",
   "execution_count": null,
   "id": "f09f216d",
   "metadata": {},
   "outputs": [],
   "source": []
  }
 ],
 "metadata": {
  "kernelspec": {
   "display_name": "Python [conda env:cs726-env]",
   "language": "python",
   "name": "conda-env-cs726-env-py"
  },
  "language_info": {
   "codemirror_mode": {
    "name": "ipython",
    "version": 3
   },
   "file_extension": ".py",
   "mimetype": "text/x-python",
   "name": "python",
   "nbconvert_exporter": "python",
   "pygments_lexer": "ipython3",
   "version": "3.8.0"
  }
 },
 "nbformat": 4,
 "nbformat_minor": 5
}
